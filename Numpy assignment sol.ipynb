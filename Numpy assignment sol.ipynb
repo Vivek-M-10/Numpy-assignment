{
 "cells": [
  {
   "cell_type": "markdown",
   "id": "6a9581a0",
   "metadata": {},
   "source": [
    "# Q.1  Write a function so that the columns of the output matrix are powers of the input vector.\n",
    "* The order of the powers is determined by the increasing boolean argument. Specifically, when increasing is False, the i-th output column is the input vector raised element-wise to the power of N - i - 1.\n",
    "\n",
    "* HINT: Such a matrix with a geometric progression in each row is named for Alexandre- Theophile Vandermonde."
   ]
  },
  {
   "cell_type": "code",
   "execution_count": 1,
   "id": "ffc62d9d",
   "metadata": {},
   "outputs": [],
   "source": [
    "import numpy as np"
   ]
  },
  {
   "cell_type": "code",
   "execution_count": 14,
   "id": "20ec9877",
   "metadata": {},
   "outputs": [],
   "source": [
    "# by iteration using loop\n",
    "def array(n):\n",
    "    lst = []\n",
    "    for i in range(1,n+1):\n",
    "        for j in range(n):\n",
    "            lst.append(i**((n-1)-j))\n",
    "    matrix = np.array(lst)\n",
    "    return matrix.reshape(n,n)"
   ]
  },
  {
   "cell_type": "code",
   "execution_count": 15,
   "id": "b86eb13b",
   "metadata": {},
   "outputs": [
    {
     "name": "stdout",
     "output_type": "stream",
     "text": [
      "[[  1   1   1   1   1]\n",
      " [ 16   8   4   2   1]\n",
      " [ 81  27   9   3   1]\n",
      " [256  64  16   4   1]\n",
      " [625 125  25   5   1]]\n"
     ]
    }
   ],
   "source": [
    "print(array(5))"
   ]
  },
  {
   "cell_type": "code",
   "execution_count": 16,
   "id": "5b033c79",
   "metadata": {},
   "outputs": [],
   "source": [
    "# using vectorization \n",
    "def func(n):\n",
    "    vector = np.arange(1,n+1)\n",
    "    matrix = np.vander(vector)\n",
    "    return (matrix)"
   ]
  },
  {
   "cell_type": "code",
   "execution_count": 18,
   "id": "4d25c19c",
   "metadata": {},
   "outputs": [
    {
     "name": "stdout",
     "output_type": "stream",
     "text": [
      "[[  1   1   1   1   1]\n",
      " [ 16   8   4   2   1]\n",
      " [ 81  27   9   3   1]\n",
      " [256  64  16   4   1]\n",
      " [625 125  25   5   1]]\n"
     ]
    }
   ],
   "source": [
    "print(func())"
   ]
  },
  {
   "cell_type": "markdown",
   "id": "fca0b82f",
   "metadata": {},
   "source": [
    "# Question: Write a function to find moving average in an array over a window:\n",
    "# Test it over [3, 5, 7, 2, 8, 10, 11, 65, 72, 81, 99, 100, 150] and window of 3."
   ]
  },
  {
   "cell_type": "markdown",
   "id": "920de273",
   "metadata": {},
   "source": [
    "* Given a sequence of n values x1, x2, ..., xn and a window size k>0, the k-th moving average of\n",
    "* the given sequence is defined as follows:\n",
    "* The moving average sequence has n-k+1 elements as shown below.\n",
    "* The moving averages with k=4 of a ten-value sequence (n=10) is shown below\n",
    "* i 1 2 3 4 5 6 7 8 9 10\n",
    "===== == == == == == == == == == ==\n",
    "* Input 10 20 30 40 50 60 70 80 90 100\n",
    "* y1 25 = (10+20+30+40)/4\n",
    "* y2 35 = (20+30+40+50)/4\n",
    "* y3 45 = (30+40+50+60)/4\n",
    "* y4 55 = (40+50+60+70)/4\n",
    "* y5 65 = (50+60+70+80)/4\n",
    "* y6 75 = (60+70+80+90)/4\n",
    "* y7 85 = (70+80+90+100)/4\n",
    "* Thus, the moving average sequence has n-k+1=10-4+1=7 values."
   ]
  },
  {
   "cell_type": "code",
   "execution_count": 21,
   "id": "87f2f7ac",
   "metadata": {},
   "outputs": [],
   "source": [
    "# by iteraton\n",
    "def moving_avg(arr):\n",
    "    lst = []\n",
    "    for i  in range(0,len(arr)-3):\n",
    "        sum = arr[i]+arr[i+1]+arr[i+2]\n",
    "        avg = round(sum/3,2)\n",
    "        lst.append(avg)\n",
    "    return lst\n",
    "        "
   ]
  },
  {
   "cell_type": "code",
   "execution_count": 33,
   "id": "9a75a249",
   "metadata": {},
   "outputs": [
    {
     "name": "stdout",
     "output_type": "stream",
     "text": [
      "[5.0, 4.67, 5.67, 6.67, 9.67, 28.67, 49.33, 72.67, 84.0, 93.33]\n"
     ]
    }
   ],
   "source": [
    "print(moving_avg([3, 5, 7, 2, 8, 10, 11, 65, 72, 81, 99, 100, 150]))"
   ]
  },
  {
   "cell_type": "code",
   "execution_count": 34,
   "id": "e852c61d",
   "metadata": {},
   "outputs": [],
   "source": [
    "# using numpy\n",
    "def moving_avg(a, n=3):\n",
    "    sum = np.cumsum(a,dtype= float)\n",
    "    sum[n:] = sum[n:] - sum[:-n]\n",
    "    return sum[n-1:]/n\n",
    "  \n",
    "        "
   ]
  },
  {
   "cell_type": "code",
   "execution_count": 38,
   "id": "1c27e42a",
   "metadata": {},
   "outputs": [
    {
     "name": "stdout",
     "output_type": "stream",
     "text": [
      "[  5.     4.67   5.67   6.67   9.67  28.67  49.33  72.67  84.    93.33\n",
      " 116.33]\n"
     ]
    }
   ],
   "source": [
    "a = np.array([3, 5, 7, 2, 8, 10, 11, 65, 72, 81, 99, 100, 150])\n",
    "print(np.array(moving_avg(a)).round(2))"
   ]
  }
 ],
 "metadata": {
  "kernelspec": {
   "display_name": "Python 3 (ipykernel)",
   "language": "python",
   "name": "python3"
  },
  "language_info": {
   "codemirror_mode": {
    "name": "ipython",
    "version": 3
   },
   "file_extension": ".py",
   "mimetype": "text/x-python",
   "name": "python",
   "nbconvert_exporter": "python",
   "pygments_lexer": "ipython3",
   "version": "3.9.7"
  }
 },
 "nbformat": 4,
 "nbformat_minor": 5
}
